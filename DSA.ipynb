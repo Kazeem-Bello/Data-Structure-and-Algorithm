{
 "cells": [
  {
   "cell_type": "markdown",
   "id": "c7d90894",
   "metadata": {},
   "source": [
    "### 1. BINARY SEARCH ALGORITH"
   ]
  },
  {
   "cell_type": "code",
   "execution_count": 1,
   "id": "46918890",
   "metadata": {},
   "outputs": [],
   "source": [
    "# this is a binary search algorithm\n",
    "a = [10, 15, 17, 20, 75, 90, 91, 92, 94]\n",
    "i = 0 #the first index in the array\n",
    "j = len(a) - 1 #the last index of the array\n",
    "def BinarySearch(i, j, a, x):\n",
    "    # if only one value in the array\n",
    "    if i == j:\n",
    "        if a[i] == x:\n",
    "            return i\n",
    "        else:\n",
    "            return -1\n",
    "\n",
    "    else:\n",
    "        mid = i + (j-i)//2\n",
    "        if a[mid] == x:\n",
    "            return mid\n",
    "        elif a[mid] > x:\n",
    "            return BinarySearch(i, mid -1, a, x)\n",
    "        else:\n",
    "            return BinarySearch(mid + 1, j, a, x)"
   ]
  },
  {
   "cell_type": "code",
   "execution_count": 2,
   "id": "90b6a064",
   "metadata": {},
   "outputs": [],
   "source": [
    "# to simplify the function so only the array and the value will be passed in it\n",
    "a = [10, 15, 17, 20, 75, 90, 91, 92, 94]\n",
    "\n",
    "def BinarySearch(a, x):\n",
    "    def Search(i, j):\n",
    "        # if only one value in the array\n",
    "        if i == j:\n",
    "            if a[i] == x:\n",
    "                return i\n",
    "            else:\n",
    "                return -1\n",
    "\n",
    "        else:\n",
    "            mid = i + (j-i)//2\n",
    "            if a[mid] == x:\n",
    "                return mid\n",
    "            elif a[mid] > x:\n",
    "                return Search(i, mid -1)\n",
    "            else:\n",
    "                return Search(mid + 1, j)\n",
    "    return Search(0, len(a)-1)"
   ]
  },
  {
   "cell_type": "code",
   "execution_count": 3,
   "id": "f030acde",
   "metadata": {},
   "outputs": [
    {
     "data": {
      "text/plain": [
       "1"
      ]
     },
     "execution_count": 3,
     "metadata": {},
     "output_type": "execute_result"
    }
   ],
   "source": [
    "BinarySearch(a, 15)"
   ]
  },
  {
   "cell_type": "code",
   "execution_count": 4,
   "id": "811ed711",
   "metadata": {},
   "outputs": [
    {
     "data": {
      "text/plain": [
       "1"
      ]
     },
     "execution_count": 4,
     "metadata": {},
     "output_type": "execute_result"
    }
   ],
   "source": [
    "BinarySearch(a, 15)"
   ]
  },
  {
   "cell_type": "code",
   "execution_count": null,
   "id": "cbea5ed4",
   "metadata": {},
   "outputs": [],
   "source": []
  }
 ],
 "metadata": {
  "kernelspec": {
   "display_name": "visa",
   "language": "python",
   "name": "python3"
  },
  "language_info": {
   "codemirror_mode": {
    "name": "ipython",
    "version": 3
   },
   "file_extension": ".py",
   "mimetype": "text/x-python",
   "name": "python",
   "nbconvert_exporter": "python",
   "pygments_lexer": "ipython3",
   "version": "3.8.19"
  }
 },
 "nbformat": 4,
 "nbformat_minor": 5
}
