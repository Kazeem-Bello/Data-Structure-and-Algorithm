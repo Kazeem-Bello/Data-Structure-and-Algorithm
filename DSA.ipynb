{
 "cells": [
  {
   "cell_type": "markdown",
   "id": "c7d90894",
   "metadata": {},
   "source": [
    "### 1. BINARY SEARCH ALGORITH"
   ]
  },
  {
   "cell_type": "code",
   "execution_count": 12,
   "id": "5d488b77",
   "metadata": {},
   "outputs": [],
   "source": [
    "a = [1, 150, 17, 270, 5, 0, 4, 92, 94]"
   ]
  },
  {
   "cell_type": "code",
   "execution_count": 13,
   "id": "4587680d",
   "metadata": {},
   "outputs": [
    {
     "name": "stdout",
     "output_type": "stream",
     "text": [
      "[0, 1, 4, 5, 17, 92, 94, 150, 270]\n"
     ]
    }
   ],
   "source": [
    "b = sorted(a)\n",
    "print (b)"
   ]
  },
  {
   "cell_type": "code",
   "execution_count": null,
   "id": "46918890",
   "metadata": {},
   "outputs": [],
   "source": [
    "# this is a binary search algorithm\n",
    "a = [10, 15, 17, 20, 75, 90, 91, 92, 94]\n",
    "i = 0 #the first index in the array\n",
    "j = len(a) - 1 #the last index of the array\n",
    "def BinarySearch(i, j, a, x):\n",
    "    # sort the list if not sorted\n",
    "    a = sorted(a)\n",
    "    # if only one value in the array\n",
    "    if i == j:\n",
    "        if a[i] == x:\n",
    "            return i\n",
    "        else:\n",
    "            return -1\n",
    "\n",
    "    else:\n",
    "        mid = i + (j-i)//2\n",
    "        if a[mid] == x:\n",
    "            return mid\n",
    "        elif a[mid] > x:\n",
    "            return BinarySearch(i, mid -1, a, x)\n",
    "        else:\n",
    "            return BinarySearch(mid + 1, j, a, x)"
   ]
  },
  {
   "cell_type": "code",
   "execution_count": null,
   "id": "90b6a064",
   "metadata": {},
   "outputs": [],
   "source": [
    "# to simplify the function so only the array and the value will be passed in it\n",
    "a = [10, 15, 17, 20, 75, 90, 91, 92, 94]\n",
    "\n",
    "def BinarySearch(a, x):\n",
    "    def Search(i, j):\n",
    "        # sort the list if not sorted\n",
    "        a = sorted(a)   \n",
    "        # if only one value in the array\n",
    "        if i == j:\n",
    "            if a[i] == x:\n",
    "                return i\n",
    "            else:\n",
    "                return -1\n",
    "\n",
    "        else:\n",
    "            mid = i + (j-i)//2\n",
    "            if a[mid] == x:\n",
    "                return mid\n",
    "            elif a[mid] > x:\n",
    "                return Search(i, mid -1)\n",
    "            else:\n",
    "                return Search(mid + 1, j)\n",
    "    return Search(0, len(a)-1)"
   ]
  },
  {
   "cell_type": "code",
   "execution_count": 4,
   "id": "f030acde",
   "metadata": {},
   "outputs": [
    {
     "data": {
      "text/plain": [
       "1"
      ]
     },
     "execution_count": 4,
     "metadata": {},
     "output_type": "execute_result"
    }
   ],
   "source": [
    "BinarySearch(a, 15)"
   ]
  },
  {
   "cell_type": "markdown",
   "id": "811ed711",
   "metadata": {},
   "source": [
    "### 2. Selection Sort"
   ]
  },
  {
   "cell_type": "code",
   "execution_count": null,
   "id": "cbea5ed4",
   "metadata": {},
   "outputs": [],
   "source": [
    "a = [50, 25, 38, 44, 99, 16, 11, 21]\n",
    "\n",
    "def Sel_Sort(a):\n",
    "    for i in range(len(a)):\n",
    "        # min is the index of the minimum value at each iteration\n",
    "        min = i\n",
    "        for j in range(i+1, len(a)):\n",
    "            if a[min] > a[j]:\n",
    "                min = j\n",
    "        a[i],a[min] = a[min], a[i]\n",
    "    return a"
   ]
  },
  {
   "cell_type": "code",
   "execution_count": 23,
   "id": "4b1603af",
   "metadata": {},
   "outputs": [
    {
     "data": {
      "text/plain": [
       "[11, 16, 21, 25, 38, 44, 50, 99]"
      ]
     },
     "execution_count": 23,
     "metadata": {},
     "output_type": "execute_result"
    }
   ],
   "source": [
    "Sel_Sort(a)"
   ]
  },
  {
   "cell_type": "code",
   "execution_count": null,
   "id": "f61e9bef",
   "metadata": {},
   "outputs": [],
   "source": []
  }
 ],
 "metadata": {
  "kernelspec": {
   "display_name": "visa",
   "language": "python",
   "name": "python3"
  },
  "language_info": {
   "codemirror_mode": {
    "name": "ipython",
    "version": 3
   },
   "file_extension": ".py",
   "mimetype": "text/x-python",
   "name": "python",
   "nbconvert_exporter": "python",
   "pygments_lexer": "ipython3",
   "version": "3.8.19"
  }
 },
 "nbformat": 4,
 "nbformat_minor": 5
}
